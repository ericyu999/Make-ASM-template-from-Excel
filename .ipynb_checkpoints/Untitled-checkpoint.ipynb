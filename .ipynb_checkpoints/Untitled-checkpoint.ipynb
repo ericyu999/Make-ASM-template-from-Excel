{
 "cells": [
  {
   "cell_type": "code",
   "execution_count": 8,
   "metadata": {},
   "outputs": [
    {
     "name": "stdout",
     "output_type": "stream",
     "text": [
      "11件NVA max row before: 23\n",
      "max row after: 23\n",
      "12件 BOWMAN max row before: 24\n",
      "max row after: 24\n",
      "12件B KEMBALL max row before: 24\n",
      "max row after: 24\n",
      "13件 MULLET max row before: 27\n",
      "max row after: 27\n",
      "11件B WHITEWAY max row before: 23\n",
      "max row after: 23\n",
      "11件C WODOWARD max row before: 26\n",
      "max row after: 26\n"
     ]
    }
   ],
   "source": [
    "import openpyxl, os\n",
    "#import win32com.client as win32\n",
    "import time\n",
    "\n",
    "##########\n",
    "#Function to delete empty rows at the end of each sheet\n",
    "def cleanExcel(filename):\n",
    "\n",
    "\n",
    "    wb = openpyxl.load_workbook(filename)\n",
    "\n",
    "\n",
    "    for sheet in wb:\n",
    "        print(sheet.title + ' max row before: ' + str(sheet.max_row))\n",
    "        for i in range(12, sheet.max_row + 1):\n",
    "\n",
    "            if sheet['I' + str(i)].value == None:\n",
    "                sheet.delete_rows(i, sheet.max_row + 1 - i)\n",
    "        print('max row after: ' + str(sheet.max_row))\n",
    "\n",
    "    wb.save(filename)\n",
    "\n",
    "    \n",
    "# Function to delete trailing spaces\n",
    "\n",
    "def trimExcel(filename):\n",
    "    \n",
    "    wb = openpyxl.load_workbook(filename)\n",
    "    \n",
    "    for sheet in wb:\n",
    "        for row in sheet.iter_rows(min_row=12, min_col=2, max_row=sheet.max_row, max_col=10):\n",
    "            for cell in row:\n",
    "                if type(cell.value) == str:\n",
    "                    cell.value = cell.value.strip()\n",
    "                else:\n",
    "                    cell.value = str(cell.value).strip()\n",
    "                    cell.value = int(cell.value)\n",
    "                \n",
    "    wb.save(filename)\n",
    "                \n",
    "        \n",
    "filename = r'/Users/xiaodongyu/Documents/Python/invoice & packing list  880-34020361 70件 一主6分.xlsx'\n",
    "\n",
    "cleanExcel(filename)\n",
    "trimExcel(filename)\n",
    "\n",
    "\n"
   ]
  },
  {
   "cell_type": "code",
   "execution_count": null,
   "metadata": {},
   "outputs": [],
   "source": []
  },
  {
   "cell_type": "code",
   "execution_count": null,
   "metadata": {},
   "outputs": [],
   "source": []
  },
  {
   "cell_type": "code",
   "execution_count": null,
   "metadata": {},
   "outputs": [],
   "source": []
  },
  {
   "cell_type": "code",
   "execution_count": null,
   "metadata": {},
   "outputs": [],
   "source": []
  },
  {
   "cell_type": "code",
   "execution_count": null,
   "metadata": {},
   "outputs": [],
   "source": []
  },
  {
   "cell_type": "code",
   "execution_count": null,
   "metadata": {},
   "outputs": [],
   "source": []
  },
  {
   "cell_type": "code",
   "execution_count": null,
   "metadata": {},
   "outputs": [],
   "source": []
  },
  {
   "cell_type": "code",
   "execution_count": null,
   "metadata": {},
   "outputs": [],
   "source": []
  }
 ],
 "metadata": {
  "kernelspec": {
   "display_name": "Python 3",
   "language": "python",
   "name": "python3"
  },
  "language_info": {
   "codemirror_mode": {
    "name": "ipython",
    "version": 3
   },
   "file_extension": ".py",
   "mimetype": "text/x-python",
   "name": "python",
   "nbconvert_exporter": "python",
   "pygments_lexer": "ipython3",
   "version": "3.6.5"
  }
 },
 "nbformat": 4,
 "nbformat_minor": 2
}
